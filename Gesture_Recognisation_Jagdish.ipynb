{
  "cells": [
    {
      "cell_type": "markdown",
      "metadata": {
        "id": "view-in-github",
        "colab_type": "text"
      },
      "source": [
        "<a href=\"https://colab.research.google.com/github/jagdishgg/CNN-Transfer-learning-Pneumonia-detection/blob/main/Gesture_Recognisation_Jagdish.ipynb\" target=\"_parent\"><img src=\"https://colab.research.google.com/assets/colab-badge.svg\" alt=\"Open In Colab\"/></a>"
      ]
    },
    {
      "cell_type": "markdown",
      "metadata": {
        "id": "Cg0EVudbVBQ_"
      },
      "source": [
        "# Gesture Recognition\n",
        "In this group project, you are going to build a 3D Conv model that will be able to predict the 5 gestures correctly. Please import the following libraries to get started."
      ]
    },
    {
      "cell_type": "code",
      "execution_count": 1,
      "metadata": {
        "id": "5oL8ppWGVBRF"
      },
      "outputs": [],
      "source": [
        "import numpy as np\n",
        "import os\n",
        "#from scipy.misc import imread, imresize\n",
        "from imageio import imread\n",
        "from skimage import transform  \n",
        "import datetime\n",
        "import os\n",
        "from tensorflow import keras\n",
        "import cv2\n",
        "import matplotlib.pyplot as plt\n",
        "% matplotlib inline"
      ]
    },
    {
      "cell_type": "markdown",
      "metadata": {
        "id": "_ZgQujxFVBRH"
      },
      "source": [
        "We set the random seed so that the results don't vary drastically."
      ]
    },
    {
      "cell_type": "code",
      "execution_count": 2,
      "metadata": {
        "id": "YoWQwUahVBRI"
      },
      "outputs": [],
      "source": [
        "np.random.seed(30)\n",
        "import random as rn\n",
        "rn.seed(30)\n",
        "from keras import backend as K\n",
        "import tensorflow as tf\n",
        "#tf.set_random_seed(30)\n",
        "tf.random.set_seed(30)"
      ]
    },
    {
      "cell_type": "code",
      "source": [
        "import os\n",
        "from google.colab import files\n",
        "\n",
        "## If you are using the data by mounting the google drive, use the following :\n",
        "from google.colab import drive\n",
        "drive.mount('/content/gdrive')"
      ],
      "metadata": {
        "colab": {
          "base_uri": "https://localhost:8080/"
        },
        "id": "WhzwbDAmrm3p",
        "outputId": "c18c2745-6598-4c40-f7c6-8a3f55bad31a"
      },
      "execution_count": 3,
      "outputs": [
        {
          "output_type": "stream",
          "name": "stdout",
          "text": [
            "Mounted at /content/gdrive\n"
          ]
        }
      ]
    },
    {
      "cell_type": "code",
      "source": [
        "!pwd"
      ],
      "metadata": {
        "colab": {
          "base_uri": "https://localhost:8080/"
        },
        "id": "s7nyiGvdsbOM",
        "outputId": "07f8c43f-7933-481c-f026-9a997473e41e"
      },
      "execution_count": 6,
      "outputs": [
        {
          "output_type": "stream",
          "name": "stdout",
          "text": [
            "/content\n"
          ]
        }
      ]
    },
    {
      "cell_type": "code",
      "source": [
        "!dir"
      ],
      "metadata": {
        "colab": {
          "base_uri": "https://localhost:8080/"
        },
        "id": "LPrERbrQsASx",
        "outputId": "7e0d7814-8513-40a3-bc8a-275f46c53fa2"
      },
      "execution_count": 7,
      "outputs": [
        {
          "output_type": "stream",
          "name": "stdout",
          "text": [
            "gdrive\tsample_data\n"
          ]
        }
      ]
    },
    {
      "cell_type": "code",
      "source": [
        "os.chdir('/content/gdrive/MyDrive/kaggle')"
      ],
      "metadata": {
        "id": "jcuhtszotOIu"
      },
      "execution_count": 8,
      "outputs": []
    },
    {
      "cell_type": "code",
      "source": [
        "!dir"
      ],
      "metadata": {
        "colab": {
          "base_uri": "https://localhost:8080/"
        },
        "id": "kWVI87yBtR4-",
        "outputId": "dd06065f-e1cc-49df-ecbc-f3bb3df011b1"
      },
      "execution_count": 9,
      "outputs": [
        {
          "output_type": "stream",
          "name": "stdout",
          "text": [
            "Jagdish_Galipelli_nn.ipynb  Project_data  Project_data.zip\n"
          ]
        }
      ]
    },
    {
      "cell_type": "code",
      "source": [
        "\n"
      ],
      "metadata": {
        "id": "ADEYiYMUsCW3"
      },
      "execution_count": 7,
      "outputs": []
    },
    {
      "cell_type": "code",
      "source": [
        "## Commented for rerun \n",
        "## !unzip   '/content/gdrive/MyDrive/kaggle/Project_data.zip' "
      ],
      "metadata": {
        "id": "g--7-FjYlLPv"
      },
      "execution_count": 8,
      "outputs": []
    },
    {
      "cell_type": "code",
      "source": [
        "os.chdir('/content/gdrive/MyDrive/kaggle/Project_data/')"
      ],
      "metadata": {
        "id": "UjyI4dTUvPvF"
      },
      "execution_count": 10,
      "outputs": []
    },
    {
      "cell_type": "code",
      "source": [
        "!dir"
      ],
      "metadata": {
        "colab": {
          "base_uri": "https://localhost:8080/"
        },
        "id": "o48cR2kGwJVe",
        "outputId": "9cd37ab0-2dd1-429a-c1a7-92ca557dbca0"
      },
      "execution_count": 11,
      "outputs": [
        {
          "output_type": "stream",
          "name": "stdout",
          "text": [
            "model_init_2022-08-1306_41_22.779367  model_init_2022-08-1312_43_29.304673\n",
            "model_init_2022-08-1306_48_11.127302  model_init_2022-08-1315_22_15.526469\n",
            "model_init_2022-08-1306_49_34.748519  model_init_2022-08-1315_24_41.541112\n",
            "model_init_2022-08-1306_57_23.044073  model_init_2022-08-1315_25_47.585725\n",
            "model_init_2022-08-1308_30_12.901750  model_init_2022-08-1315_26_53.912604\n",
            "model_init_2022-08-1311_40_02.261797  model_init_2022-08-1315_36_58.490591\n",
            "model_init_2022-08-1312_19_16.113967  model_init_2022-08-1317_51_12.873985\n",
            "model_init_2022-08-1312_20_17.333752  model_init_2022-08-1318_03_20.389719\n",
            "model_init_2022-08-1312_21_27.132343  model_init_2022-08-1319_07_27.406416\n",
            "model_init_2022-08-1312_36_09.180633  train\n",
            "model_init_2022-08-1312_37_00.837183  train.csv\n",
            "model_init_2022-08-1312_37_37.419192  val\n",
            "model_init_2022-08-1312_38_30.742518  val\\ (1).csv\n",
            "model_init_2022-08-1312_40_09.151104  val.csv\n",
            "model_init_2022-08-1312_41_01.455826\n"
          ]
        }
      ]
    },
    {
      "cell_type": "markdown",
      "metadata": {
        "id": "WkYS-pJXVBRJ"
      },
      "source": [
        "In this block, you read the folder names for training and validation. You also set the `batch_size` here. Note that you set the batch size in such a way that you are able to use the GPU in full capacity. You keep increasing the batch size until the machine throws an error."
      ]
    },
    {
      "cell_type": "code",
      "execution_count": 12,
      "metadata": {
        "id": "b2BgEGbBVBRK"
      },
      "outputs": [],
      "source": [
        "train_doc = np.random.permutation(open('/content/gdrive/MyDrive/kaggle/Project_data/train.csv').readlines())\n",
        "val_doc = np.random.permutation(open('/content/gdrive/MyDrive/kaggle/Project_data/val.csv').readlines())\n",
        "batch_size = 30 #experiment with the batch size\n",
        "\n",
        "image_ht=100\n",
        "image_wdt=100\n",
        "channels=3"
      ]
    },
    {
      "cell_type": "markdown",
      "metadata": {
        "id": "u0GW2eyzVBRK"
      },
      "source": [
        "## Generator\n",
        "This is one of the most important part of the code. The overall structure of the generator has been given. In the generator, you are going to preprocess the images as you have images of 2 different dimensions as well as create a batch of video frames. You have to experiment with `img_idx`, `y`,`z` and normalization such that you get high accuracy."
      ]
    },
    {
      "cell_type": "code",
      "source": [
        "def  batchprocess(source_path,t,batch,batch_size,img_idx,remaining_seq=0):\n",
        "    \n",
        "        seq_len = remaining_seq if remaining_seq else batch_size\n",
        "    \n",
        "        batch_data = np.zeros((seq_len,len(img_idx),image_ht,image_wdt,channels)) \n",
        "        batch_labels = np.zeros((seq_len,num_classes))    \n",
        "        \n",
        "        for folder in range(seq_len): \n",
        "            imgs = os.listdir(source_path+'/'+ t[folder + (batch*batch_size)].split(';')[0]) \n",
        "            for idx,item in enumerate(img_idx):\n",
        "          \n",
        "                image = imread(source_path+'/'+ t[folder + (batch*batch_size)].strip().split(';')[0]+'/'+imgs[item]).astype(np.float32)\n",
        "                \n",
        "                size=(image_ht,image_wdt)\n",
        "                image_resized=cv2.resize(image, size)          \n",
        "                batch_data[folder,idx,:,:,0] =(image_resized[:,:,0])/255\n",
        "                batch_data[folder,idx,:,:,1] = (image_resized[:,:,1])/255\n",
        "                batch_data[folder,idx,:,:,2] = (image_resized[:,:,2])/255            \n",
        "            batch_labels[folder, int(t[folder + (batch*batch_size)].strip().split(';')[2])] = 1          \n",
        "        return(batch_data,batch_labels)"
      ],
      "metadata": {
        "id": "CW0fHZpgyvCC"
      },
      "execution_count": 13,
      "outputs": []
    },
    {
      "cell_type": "code",
      "execution_count": 14,
      "metadata": {
        "id": "QMy0zTMhVBRL"
      },
      "outputs": [],
      "source": [
        "\n",
        "def generator(source_path, folder_list, batch_size,augment = False):\n",
        "    print( 'Source path = ', source_path, '; batch size =', batch_size)\n",
        "    #create a list of image numbers you want to use for a particular video\n",
        "    img_idx = np.round(np.linspace(0,29,20)).astype(int)  \n",
        "    while True:\n",
        "        t = np.random.permutation(folder_list)\n",
        "        # calculate the number of batches\n",
        "        num_batches =  len(t)//batch_size\n",
        "        for batch in range(num_batches): \n",
        "                batch_data, batch_labels= batchprocess(source_path,t,batch,batch_size,img_idx)\n",
        "                yield batch_data, batch_labels \n",
        "\n",
        "        remaining_seq=len(t)%batch_size\n",
        "        \n",
        "        if (remaining_seq != 0):\n",
        "                batch_data, batch_labels= batchprocess(source_path,t,num_batches,batch_size,img_idx,remaining_seq)\n",
        "                yield batch_data, batch_labels       \n"
      ]
    },
    {
      "cell_type": "markdown",
      "source": [
        "Commenting below\n",
        "def generator(source_path, folder_list, batch_size):\n",
        "    print( 'Source path = ', source_path, '; batch size =', batch_size)\n",
        "    #img_idx = [0,2,4,6,8,10,12,14,16,18,20,22] #create a list of image numbers you want to use for a particular video\n",
        "    img_idx = np.round(np.linspace(0,29,15)).astype(int)  \n",
        "    x=len(img_idx)\n",
        "    y=100\n",
        "    z=100\n",
        "    while True:\n",
        "        t = np.random.permutation(folder_list)\n",
        "        num_batches =  ( len(t)//batch_size)  # calculate the number of batches\n",
        "        rem_seq=len(t)%batch_size  # remaining sequences\n",
        "        for batch in range(num_batches): # we iterate over the number of batches\n",
        "            batch_data = np.zeros((batch_size,x,y,z,3)) # x is the number of images you use for each video, (y,z) is the final size of the input images and 3 is the number of channels RGB\n",
        "            batch_labels = np.zeros((batch_size,5)) # batch_labels is the one hot representation of the output\n",
        "            for folder in range(batch_size): # iterate over the batch_size\n",
        "                imgs = os.listdir(source_path+'/'+ t[folder + (batch*batch_size)].split(';')[0]) # read all the images in the folder\n",
        "                for idx,item in enumerate(img_idx): #  Iterate iver the frames/images of a folder to read them in\n",
        "                    image = imread(source_path+'/'+ t[folder + (batch*batch_size)].strip().split(';')[0]+'/'+imgs[item]).astype(np.float32)\n",
        "                    image = image.resize((100, 100))\n",
        "                    \n",
        "                    #crop the images and resize them. Note that the images are of 2 different shape \n",
        "                    #and the conv3D will throw error if the inputs in a batch have different shapes\n",
        "                    \n",
        "                    batch_data[folder,idx,:,:,0] =  batch_data[folder,idx,:,:,0]/255 #normalise and feed in the image\n",
        "                    batch_data[folder,idx,:,:,1] = batch_data[folder,idx,:,:,1]/255 #normalise and feed in the image\n",
        "                    batch_data[folder,idx,:,:,2] =  batch_data[folder,idx,:,:,2]/255 #normalise and feed in the image\n",
        "                    \n",
        "                batch_labels[folder, int(t[folder + (batch*batch_size)].strip().split(';')[2])] = 1\n",
        "            yield batch_data, batch_labels #you yield the batch_data and the batch_labels, remember what does yield do\n",
        "\n",
        "        \n",
        "        # write the code for the remaining data points which are left after full batches\n",
        "        if rem_seq!=0:\n",
        "          for batch in range(rem_seq): # we iterate over the number of batches\n",
        "            batch_data = np.zeros((batch_size,x,y,z,3)) # x is the number of images you use for each video, (y,z) is the final size of the input images and 3 is the number of channels RGB\n",
        "            batch_labels = np.zeros((batch_size,5)) # batch_labels is the one hot representation of the output\n",
        "            for folder in range(batch_size): # iterate over the batch_size\n",
        "                imgs = os.listdir(source_path+'/'+ t[folder + (batch*batch_size)].split(';')[0]) # read all the images in the folder\n",
        "                for idx,item in enumerate(img_idx): #  Iterate iver the frames/images of a folder to read them in\n",
        "                    image = imread(source_path+'/'+ t[folder + (batch*batch_size)].strip().split(';')[0]+'/'+imgs[item]).astype(np.float32)\n",
        "                    image = image.resize((100, 100))\n",
        "                    \n",
        "                    #crop the images and resize them. Note that the images are of 2 different shape \n",
        "                    #and the conv3D will throw error if the inputs in a batch have different shapes\n",
        "                    \n",
        "                    batch_data[folder,idx,:,:,0] =  batch_data[folder,idx,:,:,0]/255 #normalise and feed in the image\n",
        "                    batch_data[folder,idx,:,:,1] = batch_data[folder,idx,:,:,1]/255 #normalise and feed in the image\n",
        "                    batch_data[folder,idx,:,:,2] =  batch_data[folder,idx,:,:,2]/255 #normalise and feed in the image\n",
        "                    \n",
        "                batch_labels[folder, int(t[folder + (batch*batch_size)].strip().split(';')[2])] = 1\n",
        "            yield batch_data, batch_labels #you yield the batch_data and the batch_labels, remember what does yield do\n",
        "          \n"
      ],
      "metadata": {
        "id": "y_bUCREazCbK"
      }
    },
    {
      "cell_type": "markdown",
      "metadata": {
        "id": "uGL5H6N3VBRN"
      },
      "source": [
        "Note here that a video is represented above in the generator as (number of images, height, width, number of channels). Take this into consideration while creating the model architecture."
      ]
    },
    {
      "cell_type": "code",
      "execution_count": 15,
      "metadata": {
        "id": "8R35ORF_VBRO",
        "colab": {
          "base_uri": "https://localhost:8080/"
        },
        "outputId": "f1c798fb-8d53-41df-d879-b4b1defde1fe"
      },
      "outputs": [
        {
          "output_type": "stream",
          "name": "stdout",
          "text": [
            "# training sequences = 663\n",
            "# validation sequences = 100\n",
            "# epochs = 15\n",
            "# num_classes = 5\n"
          ]
        }
      ],
      "source": [
        "curr_dt_time = datetime.datetime.now()\n",
        "train_path = '/content/gdrive/MyDrive/kaggle/Project_data/train'\n",
        "val_path = '/content/gdrive/MyDrive/kaggle/Project_data/val'\n",
        "num_train_sequences = len(train_doc)\n",
        "print('# training sequences =', num_train_sequences)\n",
        "num_val_sequences = len(val_doc)\n",
        "print('# validation sequences =', num_val_sequences)\n",
        "num_epochs = 15 # choose the number of epochs\n",
        "print ('# epochs =', num_epochs)\n",
        "num_classes=5\n",
        "print ('# num_classes =', num_classes)"
      ]
    },
    {
      "cell_type": "markdown",
      "metadata": {
        "id": "O10dWUU2VBRP"
      },
      "source": [
        "## Model\n",
        "Here you make the model using different functionalities that Keras provides. Remember to use `Conv3D` and `MaxPooling3D` and not `Conv2D` and `Maxpooling2D` for a 3D convolution model. You would want to use `TimeDistributed` while building a Conv2D + RNN model. Also remember that the last layer is the softmax. Design the network in such a way that the model is able to give good accuracy on the least number of parameters so that it can fit in the memory of the webcam."
      ]
    },
    {
      "cell_type": "code",
      "execution_count": 16,
      "metadata": {
        "id": "FKKmioQbVBRQ"
      },
      "outputs": [],
      "source": [
        "from keras.models import Sequential, Model\n",
        "from keras.layers import Dense, GRU, Flatten, TimeDistributed, Flatten, BatchNormalization, Activation,Dropout\n",
        "from keras.layers.convolutional import Conv3D, MaxPooling3D\n",
        "from keras.layers.convolutional import Conv2D, MaxPooling2D\n",
        "from keras import optimizers\n",
        "\n",
        "from keras.layers.recurrent import LSTM\n",
        "from keras.callbacks import ModelCheckpoint, ReduceLROnPlateau, EarlyStopping\n"
      ]
    },
    {
      "cell_type": "code",
      "source": [
        "#write your model here\n",
        "\n",
        "model = Sequential()\n",
        "#-----------------------------------------------------\n",
        "model.add(Conv3D(32, (3, 3, 3), padding='same',input_shape=(20,image_ht,image_wdt,channels)))\n",
        "model.add(Activation('relu'))\n",
        "model.add(BatchNormalization())\n",
        "#model.add(MaxPooling3D(pool_size= (2, 2, 2)))\n",
        "\n",
        "#-----------------------------------------------------\n",
        "model.add(Conv3D(32,  (2, 2, 2), padding='same'))\n",
        "model.add(Activation('relu'))\n",
        "model.add(BatchNormalization())\n",
        "#model.add(MaxPooling3D(pool_size= (2, 2, 2)))\n",
        "#-----------------------------------------------------\n",
        "model.add(Conv3D(64,  (2, 2, 2), padding='same'))\n",
        "model.add(Activation('relu'))\n",
        "model.add(BatchNormalization())\n",
        "model.add(MaxPooling3D(pool_size= (2, 2, 2)))\n",
        "#-----------------------------------------------------\n",
        "model.add(Conv3D(64,  (2, 2, 2), padding='same'))\n",
        "model.add(Activation('relu'))\n",
        "model.add(BatchNormalization())\n",
        "model.add(MaxPooling3D(pool_size= (2, 2, 2)))\n",
        "#-----------------------------------------------------\n",
        "model.add(Flatten())\n",
        "model.add(Dense(128,activation='relu'))\n",
        "model.add(BatchNormalization())\n",
        "model.add(Dropout(0.4))\n",
        "model.add(Dense(64,activation='relu'))\n",
        "model.add(BatchNormalization())\n",
        "model.add(Dropout(0.25))\n",
        "\n",
        "model.add(Dense(num_classes,activation='softmax'))\n"
      ],
      "metadata": {
        "id": "kcmHNAor_ZJy"
      },
      "execution_count": 16,
      "outputs": []
    },
    {
      "cell_type": "markdown",
      "source": [
        "## commented out \n",
        "\n",
        "#-----------------------------\n",
        "model = Sequential()\n",
        "model.add(tf.keras.layers.experimental.preprocessing.Rescaling(1./255, input_shape=(100, 100,12, 3)))\n",
        "model.add(Conv3D(32, (3, 3,3), padding='same',\n",
        "                 input_shape=(3, 3, 3)))\n",
        "model.add(Activation('relu'))\n",
        "model.add(BatchNormalization())\n",
        "model.add(Conv3D(32, (3, 3,3)))\n",
        "model.add(Activation('relu'))\n",
        "model.add(BatchNormalization())\n",
        "model.add(MaxPooling3D(pool_size=(2, 2,2)))\n",
        "\n",
        "model.add(Conv3D(64, (3, 3,3), padding='same'))\n",
        "model.add(Activation('relu'))\n",
        "model.add(BatchNormalization())\n",
        "model.add(Conv3D(64, (3, 3,3)))\n",
        "model.add(Activation('relu'))\n",
        "model.add(BatchNormalization())\n",
        "model.add(MaxPooling3D(pool_size=(2, 2,2)))\n",
        "\n",
        "model.add(Flatten())\n",
        "model.add(Dense(512))\n",
        "model.add(Activation('relu'))\n",
        "model.add(Dropout(0.5))\n",
        "model.add(Dense(num_classes))\n",
        "model.add(Activation('softmax'))\n"
      ],
      "metadata": {
        "id": "lHHVP6eeA-6Y"
      }
    },
    {
      "cell_type": "code",
      "source": [
        ""
      ],
      "metadata": {
        "id": "jBkMf5rwA5va"
      },
      "execution_count": null,
      "outputs": []
    },
    {
      "cell_type": "markdown",
      "metadata": {
        "id": "BfMpcsVhVBRQ"
      },
      "source": [
        "Now that you have written the model, the next step is to `compile` the model. When you print the `summary` of the model, you'll see the total number of parameters you have to train."
      ]
    },
    {
      "cell_type": "code",
      "execution_count": 17,
      "metadata": {
        "scrolled": true,
        "id": "NrwqcrNEVBRR",
        "colab": {
          "base_uri": "https://localhost:8080/"
        },
        "outputId": "92d8efcf-f3e3-47d9-d059-8d831f71dbeb"
      },
      "outputs": [
        {
          "output_type": "stream",
          "name": "stdout",
          "text": [
            "Model: \"sequential\"\n",
            "_________________________________________________________________\n",
            " Layer (type)                Output Shape              Param #   \n",
            "=================================================================\n",
            " conv3d (Conv3D)             (None, 20, 100, 100, 32)  2624      \n",
            "                                                                 \n",
            " activation (Activation)     (None, 20, 100, 100, 32)  0         \n",
            "                                                                 \n",
            " batch_normalization (BatchN  (None, 20, 100, 100, 32)  128      \n",
            " ormalization)                                                   \n",
            "                                                                 \n",
            " conv3d_1 (Conv3D)           (None, 20, 100, 100, 32)  8224      \n",
            "                                                                 \n",
            " activation_1 (Activation)   (None, 20, 100, 100, 32)  0         \n",
            "                                                                 \n",
            " batch_normalization_1 (Batc  (None, 20, 100, 100, 32)  128      \n",
            " hNormalization)                                                 \n",
            "                                                                 \n",
            " conv3d_2 (Conv3D)           (None, 20, 100, 100, 64)  16448     \n",
            "                                                                 \n",
            " activation_2 (Activation)   (None, 20, 100, 100, 64)  0         \n",
            "                                                                 \n",
            " batch_normalization_2 (Batc  (None, 20, 100, 100, 64)  256      \n",
            " hNormalization)                                                 \n",
            "                                                                 \n",
            " max_pooling3d (MaxPooling3D  (None, 10, 50, 50, 64)   0         \n",
            " )                                                               \n",
            "                                                                 \n",
            " conv3d_3 (Conv3D)           (None, 10, 50, 50, 64)    32832     \n",
            "                                                                 \n",
            " activation_3 (Activation)   (None, 10, 50, 50, 64)    0         \n",
            "                                                                 \n",
            " batch_normalization_3 (Batc  (None, 10, 50, 50, 64)   256       \n",
            " hNormalization)                                                 \n",
            "                                                                 \n",
            " max_pooling3d_1 (MaxPooling  (None, 5, 25, 25, 64)    0         \n",
            " 3D)                                                             \n",
            "                                                                 \n",
            " flatten (Flatten)           (None, 200000)            0         \n",
            "                                                                 \n",
            " dense (Dense)               (None, 128)               25600128  \n",
            "                                                                 \n",
            " batch_normalization_4 (Batc  (None, 128)              512       \n",
            " hNormalization)                                                 \n",
            "                                                                 \n",
            " dropout (Dropout)           (None, 128)               0         \n",
            "                                                                 \n",
            " dense_1 (Dense)             (None, 64)                8256      \n",
            "                                                                 \n",
            " batch_normalization_5 (Batc  (None, 64)               256       \n",
            " hNormalization)                                                 \n",
            "                                                                 \n",
            " dropout_1 (Dropout)         (None, 64)                0         \n"
          ]
        },
        {
          "output_type": "stream",
          "name": "stderr",
          "text": [
            "/usr/local/lib/python3.7/dist-packages/keras/optimizer_v2/gradient_descent.py:102: UserWarning: The `lr` argument is deprecated, use `learning_rate` instead.\n",
            "  super(SGD, self).__init__(name, **kwargs)\n"
          ]
        },
        {
          "output_type": "stream",
          "name": "stdout",
          "text": [
            "                                                                 \n",
            " dense_2 (Dense)             (None, 5)                 325       \n",
            "                                                                 \n",
            "=================================================================\n",
            "Total params: 25,670,373\n",
            "Trainable params: 25,669,605\n",
            "Non-trainable params: 768\n",
            "_________________________________________________________________\n",
            "None\n"
          ]
        }
      ],
      "source": [
        "optimiser = keras.optimizers.SGD(lr=0.2, momentum=0.9, decay=0.01)  #write your optimizer\n",
        "model.compile(optimizer=optimiser, loss='categorical_crossentropy', metrics=['categorical_accuracy'])\n",
        "print (model.summary())"
      ]
    },
    {
      "cell_type": "markdown",
      "metadata": {
        "id": "O_TDs7yRVBRR"
      },
      "source": [
        "Let us create the `train_generator` and the `val_generator` which will be used in `.fit_generator`."
      ]
    },
    {
      "cell_type": "code",
      "execution_count": 16,
      "metadata": {
        "id": "xml9BgynVBRS"
      },
      "outputs": [],
      "source": [
        "train_generator = generator(train_path, train_doc, batch_size)\n",
        "val_generator = generator(val_path, val_doc, batch_size)"
      ]
    },
    {
      "cell_type": "code",
      "source": [
        "# Sample\n",
        "sample_generator = generator(train_path, train_doc, batch_size)\n",
        "sample_batch_data, sample_batch_labels = next(sample_generator)\n",
        "print(sample_batch_data.shape)\n",
        "\n"
      ],
      "metadata": {
        "colab": {
          "base_uri": "https://localhost:8080/"
        },
        "id": "a1Cv347HrMbF",
        "outputId": "7072ce15-1086-4e33-f0d5-3ebb0112f7ca"
      },
      "execution_count": 28,
      "outputs": [
        {
          "output_type": "stream",
          "name": "stdout",
          "text": [
            "Source path =  /content/gdrive/MyDrive/kaggle/Project_data/train ; batch size = 30\n",
            "(30, 20, 120, 120, 3)\n"
          ]
        }
      ]
    },
    {
      "cell_type": "code",
      "source": [
        "fig, ax = plt.subplots(1,2)\n",
        "ax[0].imshow(sample_batch_data[16,10,:,:,:])   \n",
        "ax[1].imshow(sample_batch_data[25,10,:,:,:])\n",
        "plt.show()"
      ],
      "metadata": {
        "colab": {
          "base_uri": "https://localhost:8080/",
          "height": 203
        },
        "id": "4Tlc5SKtrMk1",
        "outputId": "74d92c3c-593a-4ae4-f5c6-cb04af32b1c8"
      },
      "execution_count": 30,
      "outputs": [
        {
          "output_type": "display_data",
          "data": {
            "text/plain": [
              "<Figure size 432x288 with 2 Axes>"
            ],
            "image/png": "[encoded data removed]"
          },
          "metadata": {
            "needs_background": "light"
          }
        }
      ]
    },
    {
      "cell_type": "code",
      "source": [
        ""
      ],
      "metadata": {
        "id": "xsoYeUBArpWG"
      },
      "execution_count": null,
      "outputs": []
    },
    {
      "cell_type": "code",
      "execution_count": 17,
      "metadata": {
        "id": "GYy8WGQqVBRS",
        "colab": {
          "base_uri": "https://localhost:8080/"
        },
        "outputId": "12455dd5-2496-4e43-8492-b3bac19e5884"
      },
      "outputs": [
        {
          "output_type": "stream",
          "name": "stderr",
          "text": [
            "WARNING:tensorflow:`period` argument is deprecated. Please use `save_freq` to specify the frequency in number of batches seen.\n"
          ]
        }
      ],
      "source": [
        "model_name = 'model_init' + '_' + str(curr_dt_time).replace(' ','').replace(':','_') + '/'\n",
        "    \n",
        "if not os.path.exists(model_name):\n",
        "    os.mkdir(model_name)\n",
        "        \n",
        "filepath = model_name + 'model-{epoch:05d}-{loss:.5f}-{categorical_accuracy:.5f}-{val_loss:.5f}-{val_categorical_accuracy:.5f}.h5'\n",
        "\n",
        "checkpoint = ModelCheckpoint(filepath, monitor='val_loss', verbose=1, save_best_only=False, save_weights_only=False, mode='auto', period=1)\n",
        "\n",
        "LR =  ReduceLROnPlateau(monitor='loss',\n",
        "                                   factor=0.1,\n",
        "                                   cooldown=0,\n",
        "                                   patience=5,\n",
        "                                   min_lr=1e-4) # write the REducelronplateau code here\n",
        "callbacks_list = [checkpoint, LR]"
      ]
    },
    {
      "cell_type": "markdown",
      "metadata": {
        "id": "XTWMBQrWVBRT"
      },
      "source": [
        "The `steps_per_epoch` and `validation_steps` are used by `fit_generator` to decide the number of next() calls it need to make."
      ]
    },
    {
      "cell_type": "code",
      "execution_count": 18,
      "metadata": {
        "id": "uvN1LmhiVBRT",
        "colab": {
          "base_uri": "https://localhost:8080/"
        },
        "outputId": "e373ce63-afaa-4234-907e-e39ba8dc2fe1"
      },
      "outputs": [
        {
          "output_type": "stream",
          "name": "stdout",
          "text": [
            "steps_per_epoch 23\n",
            "validation_steps 4\n"
          ]
        }
      ],
      "source": [
        "if (num_train_sequences%batch_size) == 0:\n",
        "    steps_per_epoch = int(num_train_sequences/batch_size)\n",
        "else:\n",
        "    steps_per_epoch = (num_train_sequences//batch_size) + 1\n",
        "\n",
        "if (num_val_sequences%batch_size) == 0:\n",
        "    validation_steps = int(num_val_sequences/batch_size)\n",
        "else:\n",
        "    validation_steps = (num_val_sequences//batch_size) + 1\n",
        "print('steps_per_epoch',steps_per_epoch)\n",
        "print('validation_steps',validation_steps)\n"
      ]
    },
    {
      "cell_type": "markdown",
      "metadata": {
        "id": "9nYFhAMyVBRT"
      },
      "source": [
        "Let us now fit the model. This will start training the model and with the help of the checkpoints, you'll be able to save the model at the end of each epoch."
      ]
    },
    {
      "cell_type": "code",
      "execution_count": null,
      "metadata": {
        "id": "2PbOJMDFVBRU",
        "colab": {
          "base_uri": "https://localhost:8080/"
        },
        "outputId": "16e3067d-35e9-47ab-8b3e-19d9728429b4"
      },
      "outputs": [
        {
          "output_type": "stream",
          "name": "stderr",
          "text": [
            "/usr/local/lib/python3.7/dist-packages/ipykernel_launcher.py:3: UserWarning: `Model.fit_generator` is deprecated and will be removed in a future version. Please use `Model.fit`, which supports generators.\n",
            "  This is separate from the ipykernel package so we can avoid doing imports until\n"
          ]
        },
        {
          "output_type": "stream",
          "name": "stdout",
          "text": [
            "Source path =  /content/gdrive/MyDrive/kaggle/Project_data/train ; batch size = 30\n",
            "Epoch 1/15\n",
            "23/23 [==============================] - ETA: 0s - loss: 2.0741 - categorical_accuracy: 0.3032  Source path =  /content/gdrive/MyDrive/kaggle/Project_data/val ; batch size = 30\n",
            "\n",
            "Epoch 1: saving model to model_init_2022-08-1315_36_58.490591/model-00001-2.07413-0.30317-7803.01514-0.21000.h5\n",
            "23/23 [==============================] - 3694s 168s/step - loss: 2.0741 - categorical_accuracy: 0.3032 - val_loss: 7803.0151 - val_categorical_accuracy: 0.2100 - lr: 0.2000\n",
            "Epoch 2/15\n",
            "23/23 [==============================] - ETA: 0s - loss: 1.5786 - categorical_accuracy: 0.3439\n",
            "Epoch 2: saving model to model_init_2022-08-1315_36_58.490591/model-00002-1.57856-0.34389-110.11201-0.18000.h5\n",
            "23/23 [==============================] - 67s 3s/step - loss: 1.5786 - categorical_accuracy: 0.3439 - val_loss: 110.1120 - val_categorical_accuracy: 0.1800 - lr: 0.2000\n",
            "Epoch 3/15\n",
            "23/23 [==============================] - ETA: 0s - loss: 1.4030 - categorical_accuracy: 0.3997\n",
            "Epoch 3: saving model to model_init_2022-08-1315_36_58.490591/model-00003-1.40295-0.39970-38.82617-0.19000.h5\n",
            "23/23 [==============================] - 67s 3s/step - loss: 1.4030 - categorical_accuracy: 0.3997 - val_loss: 38.8262 - val_categorical_accuracy: 0.1900 - lr: 0.2000\n",
            "Epoch 4/15\n",
            "23/23 [==============================] - ETA: 0s - loss: 1.3643 - categorical_accuracy: 0.4208\n",
            "Epoch 4: saving model to model_init_2022-08-1315_36_58.490591/model-00004-1.36428-0.42081-31.83163-0.21000.h5\n",
            "23/23 [==============================] - 65s 3s/step - loss: 1.3643 - categorical_accuracy: 0.4208 - val_loss: 31.8316 - val_categorical_accuracy: 0.2100 - lr: 0.2000\n",
            "Epoch 5/15\n",
            "23/23 [==============================] - ETA: 0s - loss: 1.2154 - categorical_accuracy: 0.4661\n",
            "Epoch 5: saving model to model_init_2022-08-1315_36_58.490591/model-00005-1.21543-0.46606-14.07252-0.23000.h5\n",
            "23/23 [==============================] - 68s 3s/step - loss: 1.2154 - categorical_accuracy: 0.4661 - val_loss: 14.0725 - val_categorical_accuracy: 0.2300 - lr: 0.2000\n",
            "Epoch 6/15\n",
            "23/23 [==============================] - ETA: 0s - loss: 1.1147 - categorical_accuracy: 0.5038\n",
            "Epoch 6: saving model to model_init_2022-08-1315_36_58.490591/model-00006-1.11468-0.50377-6.91426-0.20000.h5\n",
            "23/23 [==============================] - 68s 3s/step - loss: 1.1147 - categorical_accuracy: 0.5038 - val_loss: 6.9143 - val_categorical_accuracy: 0.2000 - lr: 0.2000\n",
            "Epoch 7/15\n",
            "23/23 [==============================] - ETA: 0s - loss: 1.0667 - categorical_accuracy: 0.5309\n",
            "Epoch 7: saving model to model_init_2022-08-1315_36_58.490591/model-00007-1.06674-0.53092-4.70637-0.24000.h5\n",
            "23/23 [==============================] - 67s 3s/step - loss: 1.0667 - categorical_accuracy: 0.5309 - val_loss: 4.7064 - val_categorical_accuracy: 0.2400 - lr: 0.2000\n",
            "Epoch 8/15\n",
            "23/23 [==============================] - ETA: 0s - loss: 1.1024 - categorical_accuracy: 0.5023\n",
            "Epoch 8: saving model to model_init_2022-08-1315_36_58.490591/model-00008-1.10239-0.50226-2.97291-0.25000.h5\n",
            "23/23 [==============================] - 66s 3s/step - loss: 1.1024 - categorical_accuracy: 0.5023 - val_loss: 2.9729 - val_categorical_accuracy: 0.2500 - lr: 0.2000\n",
            "Epoch 9/15\n",
            "23/23 [==============================] - ETA: 0s - loss: 1.0759 - categorical_accuracy: 0.5113\n",
            "Epoch 9: saving model to model_init_2022-08-1315_36_58.490591/model-00009-1.07593-0.51131-2.76968-0.26000.h5\n",
            "23/23 [==============================] - 67s 3s/step - loss: 1.0759 - categorical_accuracy: 0.5113 - val_loss: 2.7697 - val_categorical_accuracy: 0.2600 - lr: 0.2000\n",
            "Epoch 10/15\n",
            "23/23 [==============================] - ETA: 0s - loss: 0.9794 - categorical_accuracy: 0.5656\n",
            "Epoch 10: saving model to model_init_2022-08-1315_36_58.490591/model-00010-0.97941-0.56561-2.61881-0.30000.h5\n",
            "23/23 [==============================] - 67s 3s/step - loss: 0.9794 - categorical_accuracy: 0.5656 - val_loss: 2.6188 - val_categorical_accuracy: 0.3000 - lr: 0.2000\n",
            "Epoch 11/15\n",
            "23/23 [==============================] - ETA: 0s - loss: 0.9596 - categorical_accuracy: 0.5792\n",
            "Epoch 11: saving model to model_init_2022-08-1315_36_58.490591/model-00011-0.95963-0.57919-2.67040-0.26000.h5\n",
            "23/23 [==============================] - 69s 3s/step - loss: 0.9596 - categorical_accuracy: 0.5792 - val_loss: 2.6704 - val_categorical_accuracy: 0.2600 - lr: 0.2000\n",
            "Epoch 12/15\n",
            "23/23 [==============================] - ETA: 0s - loss: 0.9827 - categorical_accuracy: 0.5626\n",
            "Epoch 12: saving model to model_init_2022-08-1315_36_58.490591/model-00012-0.98272-0.56259-1.34604-0.43000.h5\n",
            "23/23 [==============================] - 65s 3s/step - loss: 0.9827 - categorical_accuracy: 0.5626 - val_loss: 1.3460 - val_categorical_accuracy: 0.4300 - lr: 0.2000\n",
            "Epoch 13/15\n",
            "23/23 [==============================] - ETA: 0s - loss: 0.9613 - categorical_accuracy: 0.5882\n",
            "Epoch 13: saving model to model_init_2022-08-1315_36_58.490591/model-00013-0.96128-0.58824-1.22399-0.46000.h5\n",
            "23/23 [==============================] - 68s 3s/step - loss: 0.9613 - categorical_accuracy: 0.5882 - val_loss: 1.2240 - val_categorical_accuracy: 0.4600 - lr: 0.2000\n",
            "Epoch 14/15\n",
            "23/23 [==============================] - ETA: 0s - loss: 0.8873 - categorical_accuracy: 0.6275\n",
            "Epoch 14: saving model to model_init_2022-08-1315_36_58.490591/model-00014-0.88733-0.62745-1.17566-0.49000.h5\n",
            "23/23 [==============================] - 68s 3s/step - loss: 0.8873 - categorical_accuracy: 0.6275 - val_loss: 1.1757 - val_categorical_accuracy: 0.4900 - lr: 0.2000\n",
            "Epoch 15/15\n",
            "23/23 [==============================] - ETA: 0s - loss: 0.9315 - categorical_accuracy: 0.6290\n",
            "Epoch 15: saving model to model_init_2022-08-1315_36_58.490591/model-00015-0.93150-0.62896-2.27282-0.30000.h5\n",
            "23/23 [==============================] - 67s 3s/step - loss: 0.9315 - categorical_accuracy: 0.6290 - val_loss: 2.2728 - val_categorical_accuracy: 0.3000 - lr: 0.2000\n"
          ]
        }
      ],
      "source": [
        "history =model.fit_generator(train_generator, steps_per_epoch=steps_per_epoch, epochs=num_epochs, verbose=1, \n",
        "                    callbacks=callbacks_list, validation_data=val_generator, \n",
        "                    validation_steps=validation_steps, class_weight=None, workers=1, initial_epoch=0)"
      ]
    },
    {
      "cell_type": "code",
      "execution_count": 25,
      "metadata": {
        "id": "sIfxBV4VVBRU"
      },
      "outputs": [],
      "source": [
        "def plot(history):\n",
        "    fig, axes = plt.subplots(nrows=1, ncols=2, figsize=(15,4))\n",
        "    axes[0].plot(history.history['loss'])   \n",
        "    axes[0].plot(history.history['val_loss'])\n",
        "    axes[0].legend(['loss','val_loss'])\n",
        "\n",
        "    axes[1].plot(history.history['categorical_accuracy'])   \n",
        "    axes[1].plot(history.history['val_categorical_accuracy'])\n",
        "    axes[1].legend(['categorical_accuracy','val_categorical_accuracy'])"
      ]
    },
    {
      "cell_type": "code",
      "source": [
        "plot(history)"
      ],
      "metadata": {
        "colab": {
          "base_uri": "https://localhost:8080/",
          "height": 228
        },
        "id": "SUUwPj1YJePI",
        "outputId": "c405b894-a597-4c58-f0fc-5eaca6ed3ad5"
      },
      "execution_count": null,
      "outputs": [
        {
          "output_type": "display_data",
          "data": {
            "text/plain": [
              "<Figure size 1080x288 with 2 Axes>"
            ],
            "image/png": "[encoded data removed]"
          },
          "metadata": {
            "needs_background": "light"
          }
        }
      ]
    },
    {
      "cell_type": "code",
      "source": [
        "num_epochs = 10\n",
        "batch_size = 30 #experiment with the batch size\n",
        "\n",
        "image_ht=120\n",
        "image_wdt=120\n",
        "channels=3\n",
        "kernelsize=(3,3,3)"
      ],
      "metadata": {
        "id": "UHf3wkCuM4_0"
      },
      "execution_count": 28,
      "outputs": []
    },
    {
      "cell_type": "code",
      "source": [
        "train_generator = generator(train_path, train_doc, batch_size)\n",
        "val_generator = generator(val_path, val_doc, batch_size)"
      ],
      "metadata": {
        "id": "4lzk9eaFo4BX"
      },
      "execution_count": 29,
      "outputs": []
    },
    {
      "cell_type": "code",
      "source": [
        "\n",
        "model2 = Sequential()\n",
        "#-----------------------------------------------------\n",
        "model2.add(Conv3D(128, kernelsize, padding='same',input_shape=(20,image_ht,image_wdt,channels)))\n",
        "model2.add(Activation('relu'))\n",
        "model2.add(BatchNormalization())\n",
        "#model2.add(MaxPooling3D(pool_size= kernelsize))\n",
        "\n",
        "#-----------------------------------------------------\n",
        "model2.add(Conv3D(64,  kernelsize, padding='same'))\n",
        "model2.add(Activation('relu'))\n",
        "model2.add(BatchNormalization())\n",
        "#model2.add(MaxPooling3D(pool_size=kernelsize))\n",
        "#-----------------------------------------------------\n",
        "model2.add(Conv3D(64, kernelsize, padding='same'))\n",
        "model2.add(Activation('relu'))\n",
        "model2.add(BatchNormalization())\n",
        "model2.add(MaxPooling3D(pool_size=kernelsize))\n",
        "#-----------------------------------------------------\n",
        "model2.add(Conv3D(64, kernelsize, padding='same'))\n",
        "model2.add(Activation('relu'))\n",
        "model2.add(BatchNormalization())\n",
        "model2.add(MaxPooling3D(pool_size=kernelsize))\n",
        "#-----------------------------------------------------\n",
        "model2.add(Flatten())\n",
        "model2.add(Dense(64,activation='relu'))\n",
        "model2.add(BatchNormalization())\n",
        "model2.add(Dropout(0.4))\n",
        "model2.add(Dense(64,activation='relu'))\n",
        "model2.add(BatchNormalization())\n",
        "model2.add(Dropout(0.25))\n",
        "\n",
        "model2.add(Dense(num_classes,activation='softmax'))"
      ],
      "metadata": {
        "id": "2d67HTW4NQuQ"
      },
      "execution_count": 33,
      "outputs": []
    },
    {
      "cell_type": "code",
      "source": [
        "optimiser = keras.optimizers.SGD(lr=0.2, momentum=0.9, decay=0.01) \n",
        "model2.compile(optimizer=optimiser, loss='categorical_crossentropy', metrics=['categorical_accuracy'])\n",
        "print (model2.summary())"
      ],
      "metadata": {
        "colab": {
          "base_uri": "https://localhost:8080/"
        },
        "id": "NyGrJ0zRPKhS",
        "outputId": "45c8e451-918d-49b3-9754-cbd446439e24"
      },
      "execution_count": 34,
      "outputs": [
        {
          "output_type": "stream",
          "name": "stdout",
          "text": [
            "Model: \"sequential_4\"\n",
            "_________________________________________________________________\n",
            " Layer (type)                Output Shape              Param #   \n",
            "=================================================================\n",
            " conv3d_6 (Conv3D)           (None, 20, 120, 120, 128  10496     \n",
            "                             )                                   \n",
            "                                                                 \n",
            " activation_6 (Activation)   (None, 20, 120, 120, 128  0         \n",
            "                             )                                   \n",
            "                                                                 \n",
            " batch_normalization_15 (Bat  (None, 20, 120, 120, 128  512      \n",
            " chNormalization)            )                                   \n",
            "                                                                 \n",
            " conv3d_7 (Conv3D)           (None, 20, 120, 120, 64)  221248    \n",
            "                                                                 \n",
            " activation_7 (Activation)   (None, 20, 120, 120, 64)  0         \n",
            "                                                                 \n",
            " batch_normalization_16 (Bat  (None, 20, 120, 120, 64)  256      \n",
            " chNormalization)                                                \n",
            "                                                                 \n",
            " conv3d_8 (Conv3D)           (None, 20, 120, 120, 64)  110656    \n",
            "                                                                 \n",
            " activation_8 (Activation)   (None, 20, 120, 120, 64)  0         \n",
            "                                                                 \n",
            " batch_normalization_17 (Bat  (None, 20, 120, 120, 64)  256      \n",
            " chNormalization)                                                \n",
            "                                                                 \n",
            " max_pooling3d_2 (MaxPooling  (None, 6, 40, 40, 64)    0         \n",
            " 3D)                                                             \n",
            "                                                                 \n",
            " conv3d_9 (Conv3D)           (None, 6, 40, 40, 64)     110656    \n",
            "                                                                 \n",
            " activation_9 (Activation)   (None, 6, 40, 40, 64)     0         \n",
            "                                                                 \n",
            " batch_normalization_18 (Bat  (None, 6, 40, 40, 64)    256       \n",
            " chNormalization)                                                \n",
            "                                                                 \n",
            " max_pooling3d_3 (MaxPooling  (None, 2, 13, 13, 64)    0         \n",
            " 3D)                                                             \n",
            "                                                                 \n",
            " flatten_3 (Flatten)         (None, 21632)             0         \n",
            "                                                                 \n",
            " dense_8 (Dense)             (None, 64)                1384512   \n",
            "                                                                 \n",
            " batch_normalization_19 (Bat  (None, 64)               256       \n",
            " chNormalization)                                                \n",
            "                                                                 \n",
            " dropout_6 (Dropout)         (None, 64)                0         \n",
            "                                                                 \n",
            " dense_9 (Dense)             (None, 64)                4160      \n",
            "                                                                 \n",
            " batch_normalization_20 (Bat  (None, 64)               256       \n",
            " chNormalization)                                                \n",
            "                                                                 \n",
            " dropout_7 (Dropout)         (None, 64)                0         \n",
            "                                                                 \n",
            " dense_10 (Dense)            (None, 5)                 325       \n",
            "                                                                 \n",
            "=================================================================\n",
            "Total params: 1,843,845\n",
            "Trainable params: 1,842,949\n",
            "Non-trainable params: 896\n",
            "_________________________________________________________________\n",
            "None\n"
          ]
        },
        {
          "output_type": "stream",
          "name": "stderr",
          "text": [
            "/usr/local/lib/python3.7/dist-packages/keras/optimizer_v2/gradient_descent.py:102: UserWarning: The `lr` argument is deprecated, use `learning_rate` instead.\n",
            "  super(SGD, self).__init__(name, **kwargs)\n"
          ]
        }
      ]
    },
    {
      "cell_type": "code",
      "source": [
        ""
      ],
      "metadata": {
        "id": "FcYz14NaPreE"
      },
      "execution_count": 25,
      "outputs": []
    },
    {
      "cell_type": "code",
      "source": [
        "history2 =model2.fit_generator(train_generator, steps_per_epoch=steps_per_epoch, epochs=num_epochs, verbose=1, \n",
        "                    callbacks=callbacks_list, validation_data=val_generator, \n",
        "                    validation_steps=validation_steps, class_weight=None, workers=1, initial_epoch=0)"
      ],
      "metadata": {
        "colab": {
          "base_uri": "https://localhost:8080/",
          "height": 1000
        },
        "id": "mlT3QQg8PZft",
        "outputId": "aabd7d0c-ac3b-4890-a17c-77b1f5fa5cdb"
      },
      "execution_count": 35,
      "outputs": [
        {
          "output_type": "stream",
          "name": "stderr",
          "text": [
            "/usr/local/lib/python3.7/dist-packages/ipykernel_launcher.py:3: UserWarning: `Model.fit_generator` is deprecated and will be removed in a future version. Please use `Model.fit`, which supports generators.\n",
            "  This is separate from the ipykernel package so we can avoid doing imports until\n"
          ]
        },
        {
          "output_type": "stream",
          "name": "stdout",
          "text": [
            "Source path =  /content/gdrive/MyDrive/kaggle/Project_data/train ; batch size = 30\n",
            "Epoch 1/10\n"
          ]
        },
        {
          "output_type": "error",
          "ename": "ResourceExhaustedError",
          "evalue": "ignored",
          "traceback": [
            "\u001b[0;31m---------------------------------------------------------------------------\u001b[0m",
            "\u001b[0;31mResourceExhaustedError\u001b[0m                    Traceback (most recent call last)",
            "\u001b[0;32m<ipython-input-35-89e15f246a33>\u001b[0m in \u001b[0;36m<module>\u001b[0;34m()\u001b[0m\n\u001b[1;32m      1\u001b[0m history2 =model2.fit_generator(train_generator, steps_per_epoch=steps_per_epoch, epochs=num_epochs, verbose=1, \n\u001b[1;32m      2\u001b[0m                     \u001b[0mcallbacks\u001b[0m\u001b[0;34m=\u001b[0m\u001b[0mcallbacks_list\u001b[0m\u001b[0;34m,\u001b[0m \u001b[0mvalidation_data\u001b[0m\u001b[0;34m=\u001b[0m\u001b[0mval_generator\u001b[0m\u001b[0;34m,\u001b[0m\u001b[0;34m\u001b[0m\u001b[0;34m\u001b[0m\u001b[0m\n\u001b[0;32m----> 3\u001b[0;31m                     validation_steps=validation_steps, class_weight=None, workers=1, initial_epoch=0)\n\u001b[0m",
            "\u001b[0;32m/usr/local/lib/python3.7/dist-packages/keras/engine/training.py\u001b[0m in \u001b[0;36mfit_generator\u001b[0;34m(self, generator, steps_per_epoch, epochs, verbose, callbacks, validation_data, validation_steps, validation_freq, class_weight, max_queue_size, workers, use_multiprocessing, shuffle, initial_epoch)\u001b[0m\n\u001b[1;32m   2221\u001b[0m         \u001b[0muse_multiprocessing\u001b[0m\u001b[0;34m=\u001b[0m\u001b[0muse_multiprocessing\u001b[0m\u001b[0;34m,\u001b[0m\u001b[0;34m\u001b[0m\u001b[0;34m\u001b[0m\u001b[0m\n\u001b[1;32m   2222\u001b[0m         \u001b[0mshuffle\u001b[0m\u001b[0;34m=\u001b[0m\u001b[0mshuffle\u001b[0m\u001b[0;34m,\u001b[0m\u001b[0;34m\u001b[0m\u001b[0;34m\u001b[0m\u001b[0m\n\u001b[0;32m-> 2223\u001b[0;31m         initial_epoch=initial_epoch)\n\u001b[0m\u001b[1;32m   2224\u001b[0m \u001b[0;34m\u001b[0m\u001b[0m\n\u001b[1;32m   2225\u001b[0m   \u001b[0;34m@\u001b[0m\u001b[0mdoc_controls\u001b[0m\u001b[0;34m.\u001b[0m\u001b[0mdo_not_generate_docs\u001b[0m\u001b[0;34m\u001b[0m\u001b[0;34m\u001b[0m\u001b[0m\n",
            "\u001b[0;32m/usr/local/lib/python3.7/dist-packages/keras/utils/traceback_utils.py\u001b[0m in \u001b[0;36merror_handler\u001b[0;34m(*args, **kwargs)\u001b[0m\n\u001b[1;32m     65\u001b[0m     \u001b[0;32mexcept\u001b[0m \u001b[0mException\u001b[0m \u001b[0;32mas\u001b[0m \u001b[0me\u001b[0m\u001b[0;34m:\u001b[0m  \u001b[0;31m# pylint: disable=broad-except\u001b[0m\u001b[0;34m\u001b[0m\u001b[0;34m\u001b[0m\u001b[0m\n\u001b[1;32m     66\u001b[0m       \u001b[0mfiltered_tb\u001b[0m \u001b[0;34m=\u001b[0m \u001b[0m_process_traceback_frames\u001b[0m\u001b[0;34m(\u001b[0m\u001b[0me\u001b[0m\u001b[0;34m.\u001b[0m\u001b[0m__traceback__\u001b[0m\u001b[0;34m)\u001b[0m\u001b[0;34m\u001b[0m\u001b[0;34m\u001b[0m\u001b[0m\n\u001b[0;32m---> 67\u001b[0;31m       \u001b[0;32mraise\u001b[0m \u001b[0me\u001b[0m\u001b[0;34m.\u001b[0m\u001b[0mwith_traceback\u001b[0m\u001b[0;34m(\u001b[0m\u001b[0mfiltered_tb\u001b[0m\u001b[0;34m)\u001b[0m \u001b[0;32mfrom\u001b[0m \u001b[0;32mNone\u001b[0m\u001b[0;34m\u001b[0m\u001b[0;34m\u001b[0m\u001b[0m\n\u001b[0m\u001b[1;32m     68\u001b[0m     \u001b[0;32mfinally\u001b[0m\u001b[0;34m:\u001b[0m\u001b[0;34m\u001b[0m\u001b[0;34m\u001b[0m\u001b[0m\n\u001b[1;32m     69\u001b[0m       \u001b[0;32mdel\u001b[0m \u001b[0mfiltered_tb\u001b[0m\u001b[0;34m\u001b[0m\u001b[0;34m\u001b[0m\u001b[0m\n",
            "\u001b[0;32m/usr/local/lib/python3.7/dist-packages/tensorflow/python/eager/execute.py\u001b[0m in \u001b[0;36mquick_execute\u001b[0;34m(op_name, num_outputs, inputs, attrs, ctx, name)\u001b[0m\n\u001b[1;32m     53\u001b[0m     \u001b[0mctx\u001b[0m\u001b[0;34m.\u001b[0m\u001b[0mensure_initialized\u001b[0m\u001b[0;34m(\u001b[0m\u001b[0;34m)\u001b[0m\u001b[0;34m\u001b[0m\u001b[0;34m\u001b[0m\u001b[0m\n\u001b[1;32m     54\u001b[0m     tensors = pywrap_tfe.TFE_Py_Execute(ctx._handle, device_name, op_name,\n\u001b[0;32m---> 55\u001b[0;31m                                         inputs, attrs, num_outputs)\n\u001b[0m\u001b[1;32m     56\u001b[0m   \u001b[0;32mexcept\u001b[0m \u001b[0mcore\u001b[0m\u001b[0;34m.\u001b[0m\u001b[0m_NotOkStatusException\u001b[0m \u001b[0;32mas\u001b[0m \u001b[0me\u001b[0m\u001b[0;34m:\u001b[0m\u001b[0;34m\u001b[0m\u001b[0;34m\u001b[0m\u001b[0m\n\u001b[1;32m     57\u001b[0m     \u001b[0;32mif\u001b[0m \u001b[0mname\u001b[0m \u001b[0;32mis\u001b[0m \u001b[0;32mnot\u001b[0m \u001b[0;32mNone\u001b[0m\u001b[0;34m:\u001b[0m\u001b[0;34m\u001b[0m\u001b[0;34m\u001b[0m\u001b[0m\n",
            "\u001b[0;31mResourceExhaustedError\u001b[0m: Graph execution error:\n\nDetected at node 'sequential_4/batch_normalization_15/FusedBatchNormV3' defined at (most recent call last):\n    File \"/usr/lib/python3.7/runpy.py\", line 193, in _run_module_as_main\n      \"__main__\", mod_spec)\n    File \"/usr/lib/python3.7/runpy.py\", line 85, in _run_code\n      exec(code, run_globals)\n    File \"/usr/local/lib/python3.7/dist-packages/ipykernel_launcher.py\", line 16, in <module>\n      app.launch_new_instance()\n    File \"/usr/local/lib/python3.7/dist-packages/traitlets/config/application.py\", line 846, in launch_instance\n      app.start()\n    File \"/usr/local/lib/python3.7/dist-packages/ipykernel/kernelapp.py\", line 499, in start\n      self.io_loop.start()\n    File \"/usr/local/lib/python3.7/dist-packages/tornado/platform/asyncio.py\", line 132, in start\n      self.asyncio_loop.run_forever()\n    File \"/usr/lib/python3.7/asyncio/base_events.py\", line 541, in run_forever\n      self._run_once()\n    File \"/usr/lib/python3.7/asyncio/base_events.py\", line 1786, in _run_once\n      handle._run()\n    File \"/usr/lib/python3.7/asyncio/events.py\", line 88, in _run\n      self._context.run(self._callback, *self._args)\n    File \"/usr/local/lib/python3.7/dist-packages/tornado/platform/asyncio.py\", line 122, in _handle_events\n      handler_func(fileobj, events)\n    File \"/usr/local/lib/python3.7/dist-packages/tornado/stack_context.py\", line 300, in null_wrapper\n      return fn(*args, **kwargs)\n    File \"/usr/local/lib/python3.7/dist-packages/zmq/eventloop/zmqstream.py\", line 577, in _handle_events\n      self._handle_recv()\n    File \"/usr/local/lib/python3.7/dist-packages/zmq/eventloop/zmqstream.py\", line 606, in _handle_recv\n      self._run_callback(callback, msg)\n    File \"/usr/local/lib/python3.7/dist-packages/zmq/eventloop/zmqstream.py\", line 556, in _run_callback\n      callback(*args, **kwargs)\n    File \"/usr/local/lib/python3.7/dist-packages/tornado/stack_context.py\", line 300, in null_wrapper\n      return fn(*args, **kwargs)\n    File \"/usr/local/lib/python3.7/dist-packages/ipykernel/kernelbase.py\", line 283, in dispatcher\n      return self.dispatch_shell(stream, msg)\n    File \"/usr/local/lib/python3.7/dist-packages/ipykernel/kernelbase.py\", line 233, in dispatch_shell\n      handler(stream, idents, msg)\n    File \"/usr/local/lib/python3.7/dist-packages/ipykernel/kernelbase.py\", line 399, in execute_request\n      user_expressions, allow_stdin)\n    File \"/usr/local/lib/python3.7/dist-packages/ipykernel/ipkernel.py\", line 208, in do_execute\n      res = shell.run_cell(code, store_history=store_history, silent=silent)\n    File \"/usr/local/lib/python3.7/dist-packages/ipykernel/zmqshell.py\", line 537, in run_cell\n      return super(ZMQInteractiveShell, self).run_cell(*args, **kwargs)\n    File \"/usr/local/lib/python3.7/dist-packages/IPython/core/interactiveshell.py\", line 2718, in run_cell\n      interactivity=interactivity, compiler=compiler, result=result)\n    File \"/usr/local/lib/python3.7/dist-packages/IPython/core/interactiveshell.py\", line 2822, in run_ast_nodes\n      if self.run_code(code, result):\n    File \"/usr/local/lib/python3.7/dist-packages/IPython/core/interactiveshell.py\", line 2882, in run_code\n      exec(code_obj, self.user_global_ns, self.user_ns)\n    File \"<ipython-input-35-89e15f246a33>\", line 3, in <module>\n      validation_steps=validation_steps, class_weight=None, workers=1, initial_epoch=0)\n    File \"/usr/local/lib/python3.7/dist-packages/keras/engine/training.py\", line 2223, in fit_generator\n      initial_epoch=initial_epoch)\n    File \"/usr/local/lib/python3.7/dist-packages/keras/utils/traceback_utils.py\", line 64, in error_handler\n      return fn(*args, **kwargs)\n    File \"/usr/local/lib/python3.7/dist-packages/keras/engine/training.py\", line 1384, in fit\n      tmp_logs = self.train_function(iterator)\n    File \"/usr/local/lib/python3.7/dist-packages/keras/engine/training.py\", line 1021, in train_function\n      return step_function(self, iterator)\n    File \"/usr/local/lib/python3.7/dist-packages/keras/engine/training.py\", line 1010, in step_function\n      outputs = model.distribute_strategy.run(run_step, args=(data,))\n    File \"/usr/local/lib/python3.7/dist-packages/keras/engine/training.py\", line 1000, in run_step\n      outputs = model.train_step(data)\n    File \"/usr/local/lib/python3.7/dist-packages/keras/engine/training.py\", line 859, in train_step\n      y_pred = self(x, training=True)\n    File \"/usr/local/lib/python3.7/dist-packages/keras/utils/traceback_utils.py\", line 64, in error_handler\n      return fn(*args, **kwargs)\n    File \"/usr/local/lib/python3.7/dist-packages/keras/engine/base_layer.py\", line 1096, in __call__\n      outputs = call_fn(inputs, *args, **kwargs)\n    File \"/usr/local/lib/python3.7/dist-packages/keras/utils/traceback_utils.py\", line 92, in error_handler\n      return fn(*args, **kwargs)\n    File \"/usr/local/lib/python3.7/dist-packages/keras/engine/sequential.py\", line 374, in call\n      return super(Sequential, self).call(inputs, training=training, mask=mask)\n    File \"/usr/local/lib/python3.7/dist-packages/keras/engine/functional.py\", line 452, in call\n      inputs, training=training, mask=mask)\n    File \"/usr/local/lib/python3.7/dist-packages/keras/engine/functional.py\", line 589, in _run_internal_graph\n      outputs = node.layer(*args, **kwargs)\n    File \"/usr/local/lib/python3.7/dist-packages/keras/utils/traceback_utils.py\", line 64, in error_handler\n      return fn(*args, **kwargs)\n    File \"/usr/local/lib/python3.7/dist-packages/keras/engine/base_layer.py\", line 1096, in __call__\n      outputs = call_fn(inputs, *args, **kwargs)\n    File \"/usr/local/lib/python3.7/dist-packages/keras/utils/traceback_utils.py\", line 92, in error_handler\n      return fn(*args, **kwargs)\n    File \"/usr/local/lib/python3.7/dist-packages/keras/layers/normalization/batch_normalization.py\", line 767, in call\n      outputs = self._fused_batch_norm(inputs, training=training)\n    File \"/usr/local/lib/python3.7/dist-packages/keras/layers/normalization/batch_normalization.py\", line 624, in _fused_batch_norm\n      training, train_op, _fused_batch_norm_inference)\n    File \"/usr/local/lib/python3.7/dist-packages/keras/utils/control_flow_util.py\", line 106, in smart_cond\n      pred, true_fn=true_fn, false_fn=false_fn, name=name)\n    File \"/usr/local/lib/python3.7/dist-packages/keras/layers/normalization/batch_normalization.py\", line 599, in _fused_batch_norm_training\n      exponential_avg_factor=exponential_avg_factor)\nNode: 'sequential_4/batch_normalization_15/FusedBatchNormV3'\nOOM when allocating tensor with shape[30,128,20,14400] and type float on /job:localhost/replica:0/task:0/device:GPU:0 by allocator GPU_0_bfc\n\t [[{{node sequential_4/batch_normalization_15/FusedBatchNormV3}}]]\nHint: If you want to see a list of allocated tensors when OOM happens, add report_tensor_allocations_upon_oom to RunOptions for current allocation info. This isn't available when running in Eager mode.\n [Op:__inference_train_function_12457]"
          ]
        }
      ]
    },
    {
      "cell_type": "code",
      "source": [
        ""
      ],
      "metadata": {
        "id": "OU_CvBRiPpMM"
      },
      "execution_count": null,
      "outputs": []
    },
    {
      "cell_type": "code",
      "source": [
        "model_4 = Sequential()\n",
        "\n",
        "model_4.add(TimeDistributed(Conv2D(16, (3, 3) , padding='same', activation='relu'),\n",
        "                                  input_shape=(20,image_ht,image_wdt,channels)))\n",
        "model_4.add(TimeDistributed(BatchNormalization()))\n",
        "model_4.add(TimeDistributed(MaxPooling2D((2, 2))))\n",
        "        \n",
        "model_4.add(TimeDistributed(Conv2D(32, (3, 3) , padding='same', activation='relu')))\n",
        "model_4.add(TimeDistributed(BatchNormalization()))\n",
        "model_4.add(TimeDistributed(MaxPooling2D((2, 2))))\n",
        "        \n",
        "model_4.add(TimeDistributed(Conv2D(64, (3, 3) , padding='same', activation='relu')))\n",
        "model_4.add(TimeDistributed(BatchNormalization()))\n",
        "model_4.add(TimeDistributed(MaxPooling2D((2, 2))))\n",
        "        \n",
        "model_4.add(TimeDistributed(Conv2D(128, (3, 3) , padding='same', activation='relu')))\n",
        "model_4.add(TimeDistributed(BatchNormalization()))\n",
        "model_4.add(TimeDistributed(MaxPooling2D((2, 2))))\n",
        "        \n",
        "model_4.add(TimeDistributed(Conv2D(128, (3, 3) , padding='same', activation='relu')))\n",
        "model_4.add(TimeDistributed(BatchNormalization()))\n",
        "model_4.add(TimeDistributed(MaxPooling2D((2, 2))))\n",
        "        \n",
        "        #model.add(TimeDistributed(Conv2D(512, (2, 2) , padding='valid', activation='relu')))\n",
        "       # model.add(TimeDistributed(BatchNormalization()))\n",
        "       # model.add(TimeDistributed(MaxPooling2D((2, 2))))\n",
        "\n",
        "model_4.add(TimeDistributed(Flatten()))\n",
        "\n",
        "\n",
        "model_4.add(LSTM(128))\n",
        "model_4.add(Dropout(0.3))\n",
        "        \n",
        "model_4.add(Dense(128,activation='relu'))\n",
        "model_4.add(Dropout(0.3))\n",
        "        \n",
        "model_4.add(Dense(num_classes, activation='softmax'))\n",
        "optimiser = tf.optimizers.Adam()\n",
        "model_4.compile(optimizer=optimiser, loss='categorical_crossentropy', metrics=['categorical_accuracy'])"
      ],
      "metadata": {
        "id": "aWVJKrZ-twxe"
      },
      "execution_count": 35,
      "outputs": []
    },
    {
      "cell_type": "code",
      "source": [
        "optimiser = keras.optimizers.SGD(lr=0.2, momentum=0.9, decay=0.01) \n",
        "model_4.compile(optimizer=optimiser, loss='categorical_crossentropy', metrics=['categorical_accuracy'])\n",
        "print (model_4.summary())"
      ],
      "metadata": {
        "colab": {
          "base_uri": "https://localhost:8080/"
        },
        "id": "2PBz3-8ctxux",
        "outputId": "0f960752-3dec-4e85-c2ee-603ddc0cb7b7"
      },
      "execution_count": 36,
      "outputs": [
        {
          "output_type": "stream",
          "name": "stdout",
          "text": [
            "Model: \"sequential_5\"\n",
            "_________________________________________________________________\n",
            " Layer (type)                Output Shape              Param #   \n",
            "=================================================================\n",
            " time_distributed_16 (TimeDi  (None, 20, 120, 120, 16)  448      \n",
            " stributed)                                                      \n",
            "                                                                 \n",
            " time_distributed_17 (TimeDi  (None, 20, 120, 120, 16)  64       \n",
            " stributed)                                                      \n",
            "                                                                 \n",
            " time_distributed_18 (TimeDi  (None, 20, 60, 60, 16)   0         \n",
            " stributed)                                                      \n",
            "                                                                 \n",
            " time_distributed_19 (TimeDi  (None, 20, 60, 60, 32)   4640      \n",
            " stributed)                                                      \n",
            "                                                                 \n",
            " time_distributed_20 (TimeDi  (None, 20, 60, 60, 32)   128       \n",
            " stributed)                                                      \n",
            "                                                                 \n",
            " time_distributed_21 (TimeDi  (None, 20, 30, 30, 32)   0         \n",
            " stributed)                                                      \n",
            "                                                                 \n",
            " time_distributed_22 (TimeDi  (None, 20, 30, 30, 64)   18496     \n",
            " stributed)                                                      \n",
            "                                                                 \n",
            " time_distributed_23 (TimeDi  (None, 20, 30, 30, 64)   256       \n",
            " stributed)                                                      \n",
            "                                                                 \n",
            " time_distributed_24 (TimeDi  (None, 20, 15, 15, 64)   0         \n",
            " stributed)                                                      \n",
            "                                                                 \n",
            " time_distributed_25 (TimeDi  (None, 20, 15, 15, 128)  73856     \n",
            " stributed)                                                      \n",
            "                                                                 \n",
            " time_distributed_26 (TimeDi  (None, 20, 15, 15, 128)  512       \n",
            " stributed)                                                      \n",
            "                                                                 \n",
            " time_distributed_27 (TimeDi  (None, 20, 7, 7, 128)    0         \n",
            " stributed)                                                      \n",
            "                                                                 \n",
            " time_distributed_28 (TimeDi  (None, 20, 7, 7, 128)    147584    \n",
            " stributed)                                                      \n",
            "                                                                 \n",
            " time_distributed_29 (TimeDi  (None, 20, 7, 7, 128)    512       \n",
            " stributed)                                                      \n",
            "                                                                 \n",
            " time_distributed_30 (TimeDi  (None, 20, 3, 3, 128)    0         \n",
            " stributed)                                                      \n",
            "                                                                 \n",
            " time_distributed_31 (TimeDi  (None, 20, 1152)         0         \n",
            " stributed)                                                      \n",
            "                                                                 \n",
            " lstm_1 (LSTM)               (None, 128)               655872    \n",
            "                                                                 \n",
            " dropout_5 (Dropout)         (None, 128)               0         \n",
            "                                                                 \n",
            " dense_6 (Dense)             (None, 128)               16512     \n",
            "                                                                 \n",
            " dropout_6 (Dropout)         (None, 128)               0         \n",
            "                                                                 \n",
            " dense_7 (Dense)             (None, 5)                 645       \n",
            "                                                                 \n",
            "=================================================================\n",
            "Total params: 919,525\n",
            "Trainable params: 918,789\n",
            "Non-trainable params: 736\n",
            "_________________________________________________________________\n",
            "None\n"
          ]
        },
        {
          "output_type": "stream",
          "name": "stderr",
          "text": [
            "/usr/local/lib/python3.7/dist-packages/keras/optimizer_v2/gradient_descent.py:102: UserWarning: The `lr` argument is deprecated, use `learning_rate` instead.\n",
            "  super(SGD, self).__init__(name, **kwargs)\n"
          ]
        }
      ]
    },
    {
      "cell_type": "code",
      "source": [
        "history4 =model_4.fit_generator(train_generator, steps_per_epoch=steps_per_epoch, epochs=num_epochs, verbose=1, \n",
        "                    callbacks=callbacks_list, validation_data=val_generator, \n",
        "                    validation_steps=validation_steps, class_weight=None, workers=1, initial_epoch=0)"
      ],
      "metadata": {
        "colab": {
          "base_uri": "https://localhost:8080/"
        },
        "id": "ImC80CUPud9v",
        "outputId": "a2f0b7eb-1606-4643-d25f-4d17257b3da8"
      },
      "execution_count": 37,
      "outputs": [
        {
          "output_type": "stream",
          "name": "stderr",
          "text": [
            "/usr/local/lib/python3.7/dist-packages/ipykernel_launcher.py:3: UserWarning: `Model.fit_generator` is deprecated and will be removed in a future version. Please use `Model.fit`, which supports generators.\n",
            "  This is separate from the ipykernel package so we can avoid doing imports until\n"
          ]
        },
        {
          "output_type": "stream",
          "name": "stdout",
          "text": [
            "Epoch 1/10\n",
            "23/23 [==============================] - ETA: 0s - loss: 1.6015 - categorical_accuracy: 0.2624  Source path =  /content/gdrive/MyDrive/kaggle/Project_data/val ; batch size = 30\n",
            "\n",
            "Epoch 1: saving model to model_init_2022-08-1319_07_27.406416/model-00001-1.60153-0.26244-1.84309-0.27000.h5\n",
            "23/23 [==============================] - 8004s 364s/step - loss: 1.6015 - categorical_accuracy: 0.2624 - val_loss: 1.8431 - val_categorical_accuracy: 0.2700 - lr: 0.2000\n",
            "Epoch 2/10\n",
            "23/23 [==============================] - ETA: 0s - loss: 1.5180 - categorical_accuracy: 0.3544\n",
            "Epoch 2: saving model to model_init_2022-08-1319_07_27.406416/model-00002-1.51795-0.35445-1.78155-0.16000.h5\n",
            "23/23 [==============================] - 73s 3s/step - loss: 1.5180 - categorical_accuracy: 0.3544 - val_loss: 1.7815 - val_categorical_accuracy: 0.1600 - lr: 0.2000\n",
            "Epoch 3/10\n",
            "23/23 [==============================] - ETA: 0s - loss: 1.3957 - categorical_accuracy: 0.3831\n",
            "Epoch 3: saving model to model_init_2022-08-1319_07_27.406416/model-00003-1.39571-0.38311-3.38175-0.19000.h5\n",
            "23/23 [==============================] - 78s 4s/step - loss: 1.3957 - categorical_accuracy: 0.3831 - val_loss: 3.3818 - val_categorical_accuracy: 0.1900 - lr: 0.2000\n",
            "Epoch 4/10\n",
            "23/23 [==============================] - ETA: 0s - loss: 1.5178 - categorical_accuracy: 0.3394\n",
            "Epoch 4: saving model to model_init_2022-08-1319_07_27.406416/model-00004-1.51780-0.33937-2.05493-0.23000.h5\n",
            "23/23 [==============================] - 70s 3s/step - loss: 1.5178 - categorical_accuracy: 0.3394 - val_loss: 2.0549 - val_categorical_accuracy: 0.2300 - lr: 0.2000\n",
            "Epoch 5/10\n",
            "23/23 [==============================] - ETA: 0s - loss: 1.4597 - categorical_accuracy: 0.3379\n",
            "Epoch 5: saving model to model_init_2022-08-1319_07_27.406416/model-00005-1.45965-0.33786-1.99462-0.24000.h5\n",
            "23/23 [==============================] - 72s 3s/step - loss: 1.4597 - categorical_accuracy: 0.3379 - val_loss: 1.9946 - val_categorical_accuracy: 0.2400 - lr: 0.2000\n",
            "Epoch 6/10\n",
            "23/23 [==============================] - ETA: 0s - loss: 1.3666 - categorical_accuracy: 0.3771\n",
            "Epoch 6: saving model to model_init_2022-08-1319_07_27.406416/model-00006-1.36662-0.37707-2.43793-0.21000.h5\n",
            "23/23 [==============================] - 72s 3s/step - loss: 1.3666 - categorical_accuracy: 0.3771 - val_loss: 2.4379 - val_categorical_accuracy: 0.2100 - lr: 0.2000\n",
            "Epoch 7/10\n",
            "23/23 [==============================] - ETA: 0s - loss: 1.3068 - categorical_accuracy: 0.4178\n",
            "Epoch 7: saving model to model_init_2022-08-1319_07_27.406416/model-00007-1.30679-0.41780-1.73172-0.25000.h5\n",
            "23/23 [==============================] - 72s 3s/step - loss: 1.3068 - categorical_accuracy: 0.4178 - val_loss: 1.7317 - val_categorical_accuracy: 0.2500 - lr: 0.2000\n",
            "Epoch 8/10\n",
            "23/23 [==============================] - ETA: 0s - loss: 1.3170 - categorical_accuracy: 0.4299\n",
            "Epoch 8: saving model to model_init_2022-08-1319_07_27.406416/model-00008-1.31698-0.42986-1.74237-0.33000.h5\n",
            "23/23 [==============================] - 69s 3s/step - loss: 1.3170 - categorical_accuracy: 0.4299 - val_loss: 1.7424 - val_categorical_accuracy: 0.3300 - lr: 0.2000\n",
            "Epoch 9/10\n",
            "23/23 [==============================] - ETA: 0s - loss: 1.2726 - categorical_accuracy: 0.4314\n",
            "Epoch 9: saving model to model_init_2022-08-1319_07_27.406416/model-00009-1.27263-0.43137-1.44313-0.39000.h5\n",
            "23/23 [==============================] - 71s 3s/step - loss: 1.2726 - categorical_accuracy: 0.4314 - val_loss: 1.4431 - val_categorical_accuracy: 0.3900 - lr: 0.2000\n",
            "Epoch 10/10\n",
            "23/23 [==============================] - ETA: 0s - loss: 1.2042 - categorical_accuracy: 0.4992\n",
            "Epoch 10: saving model to model_init_2022-08-1319_07_27.406416/model-00010-1.20418-0.49925-1.60000-0.43000.h5\n",
            "23/23 [==============================] - 70s 3s/step - loss: 1.2042 - categorical_accuracy: 0.4992 - val_loss: 1.6000 - val_categorical_accuracy: 0.4300 - lr: 0.2000\n"
          ]
        }
      ]
    },
    {
      "cell_type": "code",
      "source": [
        "num_epochs = 25"
      ],
      "metadata": {
        "id": "g89YmLmVunrs"
      },
      "execution_count": null,
      "outputs": []
    },
    {
      "cell_type": "code",
      "source": [
        "model_5 = Sequential()\n",
        "\n",
        "model_5.add(TimeDistributed(Conv2D(64, (3, 3) , padding='same', activation='relu'),\n",
        "                                  input_shape=(20,image_ht,image_wdt,channels)))\n",
        "model_5.add(TimeDistributed(BatchNormalization()))\n",
        "model_5.add(TimeDistributed(MaxPooling2D((2, 2))))\n",
        "        \n",
        "model_5.add(TimeDistributed(Conv2D(64, (3, 3) , padding='same', activation='relu')))\n",
        "model_5.add(TimeDistributed(BatchNormalization()))\n",
        "model_5.add(TimeDistributed(MaxPooling2D((2, 2))))\n",
        "        \n",
        "model_5.add(TimeDistributed(Conv2D(64, (3, 3) , padding='same', activation='relu')))\n",
        "model_5.add(TimeDistributed(BatchNormalization()))\n",
        "model_5.add(TimeDistributed(MaxPooling2D((2, 2))))\n",
        "        \n",
        "model_5.add(TimeDistributed(Conv2D(64, (3, 3) , padding='same', activation='relu')))\n",
        "model_5.add(TimeDistributed(BatchNormalization()))\n",
        "model_5.add(TimeDistributed(MaxPooling2D((2, 2))))\n",
        "        \n",
        "model_5.add(TimeDistributed(Conv2D(64, (3, 3) , padding='same', activation='relu')))\n",
        "model_5.add(TimeDistributed(BatchNormalization()))\n",
        "model_5.add(TimeDistributed(MaxPooling2D((2, 2))))\n",
        "        \n",
        "        #model.add(TimeDistributed(Conv2D(512, (2, 2) , padding='valid', activation='relu')))\n",
        "       # model.add(TimeDistributed(BatchNormalization()))\n",
        "       # model.add(TimeDistributed(MaxPooling2D((2, 2))))\n",
        "\n",
        "model_5.add(TimeDistributed(Flatten()))\n",
        "\n",
        "\n",
        "model_5.add(LSTM(128))\n",
        "model_5.add(Dropout(0.3))\n",
        "        \n",
        "model_5.add(Dense(128,activation='relu'))\n",
        "model_5.add(Dropout(0.3))\n",
        "        \n",
        "model_5.add(Dense(num_classes, activation='softmax'))\n",
        "optimiser = tf.optimizers.Adam()\n",
        "model_5.compile(optimizer=optimiser, loss='categorical_crossentropy', metrics=['categorical_accuracy'])"
      ],
      "metadata": {
        "id": "TExaPin6tZjm"
      },
      "execution_count": 19,
      "outputs": []
    },
    {
      "cell_type": "code",
      "source": [
        "optimiser = keras.optimizers.SGD(lr=0.2, momentum=0.9, decay=0.01) \n",
        "model_5.compile(optimizer=optimiser, loss='categorical_crossentropy', metrics=['categorical_accuracy'])\n",
        "print (model_5.summary())"
      ],
      "metadata": {
        "colab": {
          "base_uri": "https://localhost:8080/"
        },
        "id": "xYME_v2AuZSG",
        "outputId": "0504eb75-f948-41e0-da64-90fc629f2144"
      },
      "execution_count": 20,
      "outputs": [
        {
          "output_type": "stream",
          "name": "stdout",
          "text": [
            "Model: \"sequential\"\n",
            "_________________________________________________________________\n",
            " Layer (type)                Output Shape              Param #   \n",
            "=================================================================\n",
            " time_distributed (TimeDistr  (None, 20, 100, 100, 64)  1792     \n",
            " ibuted)                                                         \n",
            "                                                                 \n",
            " time_distributed_1 (TimeDis  (None, 20, 100, 100, 64)  256      \n",
            " tributed)                                                       \n",
            "                                                                 \n",
            " time_distributed_2 (TimeDis  (None, 20, 50, 50, 64)   0         \n",
            " tributed)                                                       \n",
            "                                                                 \n",
            " time_distributed_3 (TimeDis  (None, 20, 50, 50, 64)   36928     \n",
            " tributed)                                                       \n",
            "                                                                 \n",
            " time_distributed_4 (TimeDis  (None, 20, 50, 50, 64)   256       \n",
            " tributed)                                                       \n",
            "                                                                 \n",
            " time_distributed_5 (TimeDis  (None, 20, 25, 25, 64)   0         \n",
            " tributed)                                                       \n",
            "                                                                 \n",
            " time_distributed_6 (TimeDis  (None, 20, 25, 25, 64)   36928     \n",
            " tributed)                                                       \n",
            "                                                                 \n",
            " time_distributed_7 (TimeDis  (None, 20, 25, 25, 64)   256       \n",
            " tributed)                                                       \n",
            "                                                                 \n",
            " time_distributed_8 (TimeDis  (None, 20, 12, 12, 64)   0         \n",
            " tributed)                                                       \n",
            "                                                                 \n",
            " time_distributed_9 (TimeDis  (None, 20, 12, 12, 64)   36928     \n",
            " tributed)                                                       \n",
            "                                                                 \n",
            " time_distributed_10 (TimeDi  (None, 20, 12, 12, 64)   256       \n",
            " stributed)                                                      \n",
            "                                                                 \n",
            " time_distributed_11 (TimeDi  (None, 20, 6, 6, 64)     0         \n",
            " stributed)                                                      \n",
            "                                                                 \n",
            " time_distributed_12 (TimeDi  (None, 20, 6, 6, 64)     36928     \n",
            " stributed)                                                      \n",
            "                                                                 \n",
            " time_distributed_13 (TimeDi  (None, 20, 6, 6, 64)     256       \n",
            " stributed)                                                      \n",
            "                                                                 \n",
            " time_distributed_14 (TimeDi  (None, 20, 3, 3, 64)     0         \n",
            " stributed)                                                      \n",
            "                                                                 \n",
            " time_distributed_15 (TimeDi  (None, 20, 576)          0         \n",
            " stributed)                                                      \n",
            "                                                                 \n",
            " lstm (LSTM)                 (None, 128)               360960    \n",
            "                                                                 \n",
            " dropout (Dropout)           (None, 128)               0         \n",
            "                                                                 \n",
            " dense (Dense)               (None, 128)               16512     \n",
            "                                                                 \n",
            " dropout_1 (Dropout)         (None, 128)               0         \n",
            "                                                                 \n",
            " dense_1 (Dense)             (None, 5)                 645       \n",
            "                                                                 \n",
            "=================================================================\n",
            "Total params: 528,901\n"
          ]
        },
        {
          "output_type": "stream",
          "name": "stderr",
          "text": [
            "/usr/local/lib/python3.7/dist-packages/keras/optimizer_v2/gradient_descent.py:102: UserWarning: The `lr` argument is deprecated, use `learning_rate` instead.\n",
            "  super(SGD, self).__init__(name, **kwargs)\n"
          ]
        },
        {
          "output_type": "stream",
          "name": "stdout",
          "text": [
            "Trainable params: 528,261\n",
            "Non-trainable params: 640\n",
            "_________________________________________________________________\n",
            "None\n"
          ]
        }
      ]
    },
    {
      "cell_type": "code",
      "source": [
        "train_generator = generator(train_path, train_doc, batch_size)\n",
        "val_generator = generator(val_path, val_doc, batch_size)"
      ],
      "metadata": {
        "id": "pdz0nIQAu27D"
      },
      "execution_count": 22,
      "outputs": []
    },
    {
      "cell_type": "code",
      "source": [
        "history5 =model_5.fit_generator(train_generator, steps_per_epoch=steps_per_epoch, epochs=num_epochs, verbose=1, \n",
        "                    callbacks=callbacks_list, validation_data=val_generator, \n",
        "                    validation_steps=validation_steps, class_weight=None, workers=1, initial_epoch=0)"
      ],
      "metadata": {
        "colab": {
          "base_uri": "https://localhost:8080/"
        },
        "id": "Lxzj9b6Qui6c",
        "outputId": "26e47f39-c358-4dd7-be02-2fce3add844a"
      },
      "execution_count": 23,
      "outputs": [
        {
          "metadata": {
            "tags": null
          },
          "name": "stderr",
          "output_type": "stream",
          "text": [
            "/usr/local/lib/python3.7/dist-packages/ipykernel_launcher.py:3: UserWarning: `Model.fit_generator` is deprecated and will be removed in a future version. Please use `Model.fit`, which supports generators.\n",
            "  This is separate from the ipykernel package so we can avoid doing imports until\n"
          ]
        },
        {
          "output_type": "stream",
          "name": "stdout",
          "text": [
            "Source path =  /content/gdrive/MyDrive/kaggle/Project_data/train ; batch size = 30\n",
            "Epoch 1/15\n",
            "23/23 [==============================] - ETA: 0s - loss: 1.5150 - categorical_accuracy: 0.3394  Source path =  /content/gdrive/MyDrive/kaggle/Project_data/val ; batch size = 30\n",
            "\n",
            "Epoch 1: saving model to model_init_2022-08-1404_58_05.377837/model-00001-1.51498-0.33937-2.04615-0.22000.h5\n",
            "23/23 [==============================] - 3365s 152s/step - loss: 1.5150 - categorical_accuracy: 0.3394 - val_loss: 2.0461 - val_categorical_accuracy: 0.2200 - lr: 0.2000\n",
            "Epoch 2/15\n",
            "23/23 [==============================] - ETA: 0s - loss: 1.3890 - categorical_accuracy: 0.3952\n",
            "Epoch 2: saving model to model_init_2022-08-1404_58_05.377837/model-00002-1.38901-0.39517-2.63064-0.22000.h5\n",
            "23/23 [==============================] - 69s 3s/step - loss: 1.3890 - categorical_accuracy: 0.3952 - val_loss: 2.6306 - val_categorical_accuracy: 0.2200 - lr: 0.2000\n",
            "Epoch 3/15\n",
            "23/23 [==============================] - ETA: 0s - loss: 1.2777 - categorical_accuracy: 0.4465\n",
            "Epoch 3: saving model to model_init_2022-08-1404_58_05.377837/model-00003-1.27767-0.44646-2.91432-0.25000.h5\n",
            "23/23 [==============================] - 68s 3s/step - loss: 1.2777 - categorical_accuracy: 0.4465 - val_loss: 2.9143 - val_categorical_accuracy: 0.2500 - lr: 0.2000\n",
            "Epoch 4/15\n",
            "23/23 [==============================] - ETA: 0s - loss: 1.2123 - categorical_accuracy: 0.4872\n",
            "Epoch 4: saving model to model_init_2022-08-1404_58_05.377837/model-00004-1.21231-0.48718-1.90879-0.19000.h5\n",
            "23/23 [==============================] - 67s 3s/step - loss: 1.2123 - categorical_accuracy: 0.4872 - val_loss: 1.9088 - val_categorical_accuracy: 0.1900 - lr: 0.2000\n",
            "Epoch 5/15\n",
            "23/23 [==============================] - ETA: 0s - loss: 1.2216 - categorical_accuracy: 0.4796\n",
            "Epoch 5: saving model to model_init_2022-08-1404_58_05.377837/model-00005-1.22158-0.47964-3.73530-0.18000.h5\n",
            "23/23 [==============================] - 68s 3s/step - loss: 1.2216 - categorical_accuracy: 0.4796 - val_loss: 3.7353 - val_categorical_accuracy: 0.1800 - lr: 0.2000\n",
            "Epoch 6/15\n",
            "23/23 [==============================] - ETA: 0s - loss: 1.3218 - categorical_accuracy: 0.4299\n",
            "Epoch 6: saving model to model_init_2022-08-1404_58_05.377837/model-00006-1.32175-0.42986-3.28722-0.21000.h5\n",
            "23/23 [==============================] - 68s 3s/step - loss: 1.3218 - categorical_accuracy: 0.4299 - val_loss: 3.2872 - val_categorical_accuracy: 0.2100 - lr: 0.2000\n",
            "Epoch 7/15\n",
            "23/23 [==============================] - ETA: 0s - loss: 1.1815 - categorical_accuracy: 0.4736\n",
            "Epoch 7: saving model to model_init_2022-08-1404_58_05.377837/model-00007-1.18146-0.47360-2.96108-0.24000.h5\n",
            "23/23 [==============================] - 67s 3s/step - loss: 1.1815 - categorical_accuracy: 0.4736 - val_loss: 2.9611 - val_categorical_accuracy: 0.2400 - lr: 0.2000\n",
            "Epoch 8/15\n",
            "23/23 [==============================] - ETA: 0s - loss: 1.1272 - categorical_accuracy: 0.5339\n",
            "Epoch 8: saving model to model_init_2022-08-1404_58_05.377837/model-00008-1.12721-0.53394-2.09038-0.38000.h5\n",
            "23/23 [==============================] - 66s 3s/step - loss: 1.1272 - categorical_accuracy: 0.5339 - val_loss: 2.0904 - val_categorical_accuracy: 0.3800 - lr: 0.2000\n",
            "Epoch 9/15\n",
            "23/23 [==============================] - ETA: 0s - loss: 1.0254 - categorical_accuracy: 0.5520\n",
            "Epoch 9: saving model to model_init_2022-08-1404_58_05.377837/model-00009-1.02543-0.55204-2.44150-0.30000.h5\n",
            "23/23 [==============================] - 67s 3s/step - loss: 1.0254 - categorical_accuracy: 0.5520 - val_loss: 2.4415 - val_categorical_accuracy: 0.3000 - lr: 0.2000\n",
            "Epoch 10/15\n",
            "23/23 [==============================] - ETA: 0s - loss: 1.0354 - categorical_accuracy: 0.5475\n",
            "Epoch 10: saving model to model_init_2022-08-1404_58_05.377837/model-00010-1.03540-0.54751-1.62770-0.47000.h5\n",
            "23/23 [==============================] - 68s 3s/step - loss: 1.0354 - categorical_accuracy: 0.5475 - val_loss: 1.6277 - val_categorical_accuracy: 0.4700 - lr: 0.2000\n",
            "Epoch 11/15\n",
            "23/23 [==============================] - ETA: 0s - loss: 0.9842 - categorical_accuracy: 0.6033\n",
            "Epoch 11: saving model to model_init_2022-08-1404_58_05.377837/model-00011-0.98419-0.60332-1.02805-0.56000.h5\n",
            "23/23 [==============================] - 67s 3s/step - loss: 0.9842 - categorical_accuracy: 0.6033 - val_loss: 1.0280 - val_categorical_accuracy: 0.5600 - lr: 0.2000\n",
            "Epoch 12/15\n",
            "23/23 [==============================] - ETA: 0s - loss: 0.8254 - categorical_accuracy: 0.6365\n",
            "Epoch 12: saving model to model_init_2022-08-1404_58_05.377837/model-00012-0.82544-0.63650-1.17235-0.53000.h5\n",
            "23/23 [==============================] - 65s 3s/step - loss: 0.8254 - categorical_accuracy: 0.6365 - val_loss: 1.1723 - val_categorical_accuracy: 0.5300 - lr: 0.2000\n",
            "Epoch 13/15\n",
            "23/23 [==============================] - ETA: 0s - loss: 0.8465 - categorical_accuracy: 0.6290\n",
            "Epoch 13: saving model to model_init_2022-08-1404_58_05.377837/model-00013-0.84647-0.62896-1.07297-0.60000.h5\n",
            "23/23 [==============================] - 66s 3s/step - loss: 0.8465 - categorical_accuracy: 0.6290 - val_loss: 1.0730 - val_categorical_accuracy: 0.6000 - lr: 0.2000\n",
            "Epoch 14/15\n",
            "23/23 [==============================] - ETA: 0s - loss: 0.7930 - categorical_accuracy: 0.6667\n",
            "Epoch 14: saving model to model_init_2022-08-1404_58_05.377837/model-00014-0.79300-0.66667-0.99198-0.58000.h5\n",
            "23/23 [==============================] - 67s 3s/step - loss: 0.7930 - categorical_accuracy: 0.6667 - val_loss: 0.9920 - val_categorical_accuracy: 0.5800 - lr: 0.2000\n",
            "Epoch 15/15\n",
            "23/23 [==============================] - ETA: 0s - loss: 0.7935 - categorical_accuracy: 0.6727\n",
            "Epoch 15: saving model to model_init_2022-08-1404_58_05.377837/model-00015-0.79346-0.67270-1.44239-0.47000.h5\n",
            "23/23 [==============================] - 69s 3s/step - loss: 0.7935 - categorical_accuracy: 0.6727 - val_loss: 1.4424 - val_categorical_accuracy: 0.4700 - lr: 0.2000\n"
          ]
        }
      ]
    },
    {
      "cell_type": "code",
      "source": [
        "plot(history5)"
      ],
      "metadata": {
        "colab": {
          "base_uri": "https://localhost:8080/",
          "height": 230
        },
        "id": "mF-i7bwzus4v",
        "outputId": "f86eb15c-cc75-4f2c-fa17-0d1552940530"
      },
      "execution_count": 26,
      "outputs": [
        {
          "output_type": "display_data",
          "data": {
            "text/plain": [
              "<Figure size 1080x288 with 2 Axes>"
            ],
            "image/png": "[encoded data removed]"
          },
          "metadata": {
            "needs_background": "light"
          }
        }
      ]
    },
    {
      "cell_type": "code",
      "source": [
        ""
      ],
      "metadata": {
        "id": "E42NAC6gCi77"
      },
      "execution_count": null,
      "outputs": []
    }
  ],
  "metadata": {
    "kernelspec": {
      "display_name": "Python 3",
      "language": "python",
      "name": "python3"
    },
    "language_info": {
      "codemirror_mode": {
        "name": "ipython",
        "version": 3
      },
      "file_extension": ".py",
      "mimetype": "text/x-python",
      "name": "python",
      "nbconvert_exporter": "python",
      "pygments_lexer": "ipython3",
      "version": "3.6.5"
    },
    "colab": {
      "name": "Gesture Recognisation - Jagdish.ipynb",
      "provenance": [],
      "collapsed_sections": [],
      "include_colab_link": true
    },
    "gpuClass": "standard",
    "accelerator": "GPU"
  },
  "nbformat": 4,
  "nbformat_minor": 0
}